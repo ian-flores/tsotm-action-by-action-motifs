{
 "cells": [
  {
   "cell_type": "code",
   "execution_count": 354,
   "id": "b348040d-b95d-4994-a20c-6700d07ae349",
   "metadata": {},
   "outputs": [],
   "source": [
    "import pandas as pd\n",
    "import datetime"
   ]
  },
  {
   "cell_type": "code",
   "execution_count": 393,
   "id": "412ec93a-6a0a-4e6a-a485-0ca5b8e5d4d3",
   "metadata": {},
   "outputs": [],
   "source": [
    "participant_data = pd.read_excel(\"data/data_collection.xslx\", sheet_name = \"40ab\", skiprows = 3)\n",
    "participant_data.drop([\"Unnamed: 4\", \"Unnamed: 5\", \"Unnamed: 6\", \"Summary Questions\"], axis = 1, inplace = True)\n",
    "participant_data = participant_data[['Timestamp', 'Theme']]"
   ]
  },
  {
   "cell_type": "code",
   "execution_count": 394,
   "id": "ba731809-5df6-4fc5-9970-9f05bbd19ea3",
   "metadata": {},
   "outputs": [],
   "source": [
    "participant_data = participant_data[participant_data[\"Timestamp\"].notna()]\n",
    "participant_data = participant_data[~participant_data[\"Timestamp\"].str.contains(\"\\*\")]\n",
    "participant_data.reset_index(inplace=True)"
   ]
  },
  {
   "cell_type": "code",
   "execution_count": 395,
   "id": "ce4c1610-65ac-4d6d-965e-bc27902cadc0",
   "metadata": {},
   "outputs": [
    {
     "data": {
      "text/plain": [
       "70"
      ]
     },
     "execution_count": 395,
     "metadata": {},
     "output_type": "execute_result"
    }
   ],
   "source": [
    "nba_idx = participant_data[participant_data[\"Timestamp\"] == \"NBA NOTEBOOK\"].index.values.astype(int)[0]\n",
    "nba_idx"
   ]
  },
  {
   "cell_type": "code",
   "execution_count": 396,
   "id": "22d647a9-104f-40c4-a54c-977b035802dc",
   "metadata": {},
   "outputs": [],
   "source": [
    "participant_data[['event_start', 'event_end']] = participant_data.Timestamp.str.split('-', expand = True)\n",
    "participant_data.drop('Timestamp', axis = 1, inplace=True)\n",
    "participant_data.event_start = participant_data.event_start.str.strip().copy(deep=True)\n",
    "participant_data.event_start = participant_data.event_start.str.replace('\"', '').copy(deep=True)\n",
    "participant_data.event_start = participant_data.event_start.str.replace(\"'\", '').copy(deep=True)\n",
    "participant_data.event_end = participant_data.event_end.str.strip().copy(deep=True)\n",
    "participant_data.event_end = participant_data.event_end.str.replace(\"'\", '').copy(deep=True)\n",
    "participant_data.event_end = participant_data.event_end.str.replace('\"', '').copy(deep=True)"
   ]
  },
  {
   "cell_type": "code",
   "execution_count": 397,
   "id": "e445a982-d14a-4776-a10b-2638e22be536",
   "metadata": {},
   "outputs": [],
   "source": [
    "elections_notebook = participant_data.iloc[:nba_idx, :]\n",
    "nba_notebook = participant_data.iloc[nba_idx + 1:, :]"
   ]
  },
  {
   "cell_type": "code",
   "execution_count": 398,
   "id": "1e89d87f-7856-449f-bbd8-7676fcbe2bf5",
   "metadata": {},
   "outputs": [],
   "source": [
    "# From this person because I was lazy: https://stackoverflow.com/a/10748024\n",
    "def time_in_range(start, end, x):\n",
    "    \"\"\"Return true if x is in the range [start, end]\"\"\"\n",
    "    if start <= end:\n",
    "        return start <= x <= end\n",
    "    else:\n",
    "        return start <= x or x <= end"
   ]
  },
  {
   "cell_type": "code",
   "execution_count": 402,
   "id": "ca40a20e-52aa-45ac-86f3-2a0f5f2d0f84",
   "metadata": {},
   "outputs": [],
   "source": [
    "def parent_finder(df_values, verbose = False):\n",
    "    results = []\n",
    "    \n",
    "    for idx, value in enumerate(df_values):\n",
    "        scanned_entries = []\n",
    "\n",
    "        if value[3] is None:\n",
    "            continue\n",
    "        if idx == len(df_values):\n",
    "            break\n",
    "        start = datetime.datetime.strptime(value[2], \"%M:%S\").time()\n",
    "        end = datetime.datetime.strptime(value[3], \"%M:%S\").time()\n",
    "        for events in df_values:\n",
    "            if events[3] is None:\n",
    "                if events[0] in scanned_entries:\n",
    "                    continue\n",
    "                event_of_interest = datetime.datetime.strptime(events[2], \"%M:%S\").time()\n",
    "                scanned_entries.append(events[0])\n",
    "\n",
    "                if time_in_range(start, end, event_of_interest):\n",
    "                    result = (value[0], events[0])\n",
    "                    results.append(result)\n",
    "                    if verbose:\n",
    "                        print(result)\n",
    "    return results"
   ]
  },
  {
   "cell_type": "code",
   "execution_count": 403,
   "id": "82211279-da82-414d-aeaa-5a95dd495198",
   "metadata": {},
   "outputs": [
    {
     "data": {
      "text/plain": [
       "[(0, 1),\n",
       " (0, 2),\n",
       " (13, 15),\n",
       " (14, 15),\n",
       " (16, 15),\n",
       " (17, 18),\n",
       " (38, 37),\n",
       " (43, 45),\n",
       " (46, 48),\n",
       " (47, 48),\n",
       " (52, 53)]"
      ]
     },
     "execution_count": 403,
     "metadata": {},
     "output_type": "execute_result"
    }
   ],
   "source": [
    "parent_finder(elections_notebook.values)"
   ]
  },
  {
   "cell_type": "code",
   "execution_count": 404,
   "id": "39c40a30-9a22-49f8-82b6-05d6294ea0ea",
   "metadata": {},
   "outputs": [
    {
     "data": {
      "text/plain": [
       "[(82, 83),\n",
       " (82, 84),\n",
       " (82, 85),\n",
       " (82, 86),\n",
       " (82, 88),\n",
       " (82, 89),\n",
       " (82, 90),\n",
       " (82, 91),\n",
       " (82, 92),\n",
       " (82, 93),\n",
       " (82, 94),\n",
       " (82, 95),\n",
       " (117, 118)]"
      ]
     },
     "execution_count": 404,
     "metadata": {},
     "output_type": "execute_result"
    }
   ],
   "source": [
    "parent_finder(nba_notebook.values)"
   ]
  }
 ],
 "metadata": {
  "kernelspec": {
   "display_name": "tsotm-env",
   "language": "python",
   "name": "tsotm-env"
  },
  "language_info": {
   "codemirror_mode": {
    "name": "ipython",
    "version": 3
   },
   "file_extension": ".py",
   "mimetype": "text/x-python",
   "name": "python",
   "nbconvert_exporter": "python",
   "pygments_lexer": "ipython3",
   "version": "3.9.6"
  }
 },
 "nbformat": 4,
 "nbformat_minor": 5
}
